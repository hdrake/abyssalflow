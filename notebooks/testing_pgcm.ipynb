{
 "cells": [
  {
   "cell_type": "code",
   "execution_count": 1,
   "metadata": {},
   "outputs": [
    {
     "name": "stdout",
     "output_type": "stream",
     "text": [
      "1d_itp_to_3d.ipynb\n",
      "generate_inputs_for_ridge_and_kappa.ipynb\n",
      "manuscript_figures.ipynb\n",
      "manuscript_figures_old.ipynb\n",
      "testing_pgcm.ipynb\n"
     ]
    }
   ],
   "source": [
    "; ls"
   ]
  },
  {
   "cell_type": "code",
   "execution_count": 4,
   "metadata": {},
   "outputs": [
    {
     "name": "stdout",
     "output_type": "stream",
     "text": [
      "/nobackup1b/users/hdrake/abyssalflow/pgcm/test\n"
     ]
    }
   ],
   "source": [
    "; cd ../pgcm/test"
   ]
  },
  {
   "cell_type": "code",
   "execution_count": 5,
   "metadata": {},
   "outputs": [],
   "source": [
    "args = [\"test\"]\n",
    "include(\"create.jl\")"
   ]
  },
  {
   "cell_type": "code",
   "execution_count": 6,
   "metadata": {},
   "outputs": [
    {
     "name": "stdout",
     "output_type": "stream",
     "text": [
      "loading setup\n",
      "loading state\n",
      "saved\n",
      "saved\n",
      "saved\n",
      "saved\n",
      "saved\n",
      "saved\n",
      "saved\n",
      "saved\n",
      "saved\n",
      "saved\n",
      "saved\n",
      "saved\n",
      "saved\n",
      "saved\n",
      "saved\n",
      "saved\n",
      "saved\n",
      "saved\n",
      "saved\n",
      "saved\n",
      "saved\n",
      "saved\n",
      "saved\n",
      "saved\n",
      "saved\n",
      "saved\n",
      "saved\n",
      "saved\n",
      "saved\n",
      "saved\n",
      "saved\n",
      "saved\n",
      "saved\n",
      "saved\n",
      "saved\n",
      "saved\n",
      "saved\n",
      "saved\n",
      "saved\n",
      "saved\n",
      "saved\n",
      "saved\n",
      "saved\n",
      "saved\n",
      "saved\n",
      "saved\n",
      "saved\n",
      "saved\n",
      "saved\n",
      "saved\n"
     ]
    }
   ],
   "source": [
    "args = [\"test\", \"0\"]\n",
    "include(\"run.jl\")"
   ]
  },
  {
   "cell_type": "code",
   "execution_count": null,
   "metadata": {},
   "outputs": [],
   "source": []
  }
 ],
 "metadata": {
  "kernelspec": {
   "display_name": "Julia 1.2.0",
   "language": "julia",
   "name": "julia-1.2"
  },
  "language_info": {
   "file_extension": ".jl",
   "mimetype": "application/julia",
   "name": "julia",
   "version": "1.2.0"
  }
 },
 "nbformat": 4,
 "nbformat_minor": 4
}
